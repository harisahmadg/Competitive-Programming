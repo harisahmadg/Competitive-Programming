{
 "cells": [
  {
   "cell_type": "code",
   "execution_count": 15,
   "metadata": {},
   "outputs": [],
   "source": [
    "# sliding window\n",
    "\n",
    "class Solution:\n",
    "    def countGoodSubstrings(self, s: str) -> int:\n",
    "\n",
    "        if len(s) < 3:\n",
    "            return 0\n",
    "            \n",
    "        k = 3\n",
    "        count = 0\n",
    "        freq = {}\n",
    "\n",
    "        for i in range(0,k):\n",
    "            if s[i] in freq:\n",
    "                freq[s[i]] += 1\n",
    "            else:\n",
    "                freq[s[i]] = 1\n",
    "        \n",
    "        if len(freq) == 3:\n",
    "            count += 1\n",
    "\n",
    "        for i in range(k, len(s)):\n",
    "            freq[s[i-k]] -= 1      # reduce the count on the oldest char\n",
    "            if freq[s[i-k]] == 0:\n",
    "                freq.pop(s[i-k])   # remove if 0 freq\n",
    "\n",
    "            if s[i] in freq:\n",
    "                freq[s[i]] += 1\n",
    "            else:\n",
    "                freq[s[i]] = 1\n",
    "                \n",
    "            if len(freq) == 3:\n",
    "                count += 1\n",
    "                \n",
    "        return count"
   ]
  },
  {
   "cell_type": "code",
   "execution_count": 21,
   "metadata": {},
   "outputs": [],
   "source": [
    "# cleaner\n",
    "\n",
    "class Solution:\n",
    "    def countGoodSubstrings(self, s: str) -> int:\n",
    "\n",
    "        if len(s) < 3:\n",
    "            return 0\n",
    "            \n",
    "        k = 3\n",
    "        count = 0\n",
    "        freq = {}\n",
    "\n",
    "        for i in range(0, len(s)):\n",
    "\n",
    "            if s[i] in freq:\n",
    "                freq[s[i]] += 1\n",
    "            else:\n",
    "                freq[s[i]] = 1\n",
    "            \n",
    "            if i >= k:\n",
    "                freq[s[i-k]] -= 1      # reduce the count on the oldest char\n",
    "\n",
    "                if freq[s[i-k]] == 0:\n",
    "                    freq.pop(s[i-k])   # remove if 0 freq\n",
    "\n",
    "            if len(freq) == 3:\n",
    "                count += 1\n",
    "                \n",
    "        return count"
   ]
  },
  {
   "cell_type": "code",
   "execution_count": 22,
   "metadata": {},
   "outputs": [
    {
     "name": "stdout",
     "output_type": "stream",
     "text": [
      "1\n"
     ]
    }
   ],
   "source": [
    "obj = Solution()\n",
    "print(obj.countGoodSubstrings(\"xyzzaz\"))"
   ]
  }
 ],
 "metadata": {
  "kernelspec": {
   "display_name": "Python 3.9.7 64-bit",
   "language": "python",
   "name": "python3"
  },
  "language_info": {
   "codemirror_mode": {
    "name": "ipython",
    "version": 3
   },
   "file_extension": ".py",
   "mimetype": "text/x-python",
   "name": "python",
   "nbconvert_exporter": "python",
   "pygments_lexer": "ipython3",
   "version": "3.9.7"
  },
  "orig_nbformat": 4,
  "vscode": {
   "interpreter": {
    "hash": "fb0118d73d3d26f88e0d1e3500a56a7fc92e760d5128bb0bdb4d57f6bad5166f"
   }
  }
 },
 "nbformat": 4,
 "nbformat_minor": 2
}
