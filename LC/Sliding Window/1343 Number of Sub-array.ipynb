{
 "cells": [
  {
   "cell_type": "code",
   "execution_count": null,
   "metadata": {},
   "outputs": [],
   "source": [
    "# 1343. Number of Sub-arrays of Size K and Average Greater than or Equal to Threshold"
   ]
  },
  {
   "cell_type": "code",
   "execution_count": null,
   "metadata": {},
   "outputs": [],
   "source": [
    "# brute force approach\n",
    "\n",
    "# from typing import List\n",
    "# class Solution:\n",
    "#     def numOfSubarrays(self, arr: List[int], k: int, threshold: int) -> int:\n",
    "        \n",
    "#         if len(arr) == 0:\n",
    "#             return 0\n",
    "\n",
    "#         nums = []\n",
    "#         for i in range(len(arr)):\n",
    "#             while i+2 < len(arr):\n",
    "\n",
    "#             if arr[i] != current:\n",
    "#                 current = arr[i]\n",
    "#                 count += 1\n",
    "\n",
    "\n"
   ]
  },
  {
   "cell_type": "code",
   "execution_count": 13,
   "metadata": {},
   "outputs": [],
   "source": [
    "# sliding window\n",
    "\n",
    "# 1. Find the sum of the first k ints\n",
    "# 2. Add to counter if the average of sum over k is equal to or greater than the threshold\n",
    "# 3. Slide window by one element\n",
    "# 4. step 2 repeat\n",
    "# 5. return counter\n",
    "\n",
    "# TIME LIMIT EXCEEDED\n",
    "\n",
    "from typing import List\n",
    "from statistics import mean\n",
    "\n",
    "class Solution:\n",
    "    def numOfSubarrays(self, arr: List[int], k: int, threshold: int) -> int:\n",
    "        \n",
    "        counter = 0\n",
    "        i = 0\n",
    "        while (i+k) <= len(arr):     # [1,2,3] k = 3\n",
    "            ws = i\n",
    "            we = i+k\n",
    "            if mean(arr[ws:we]) >= threshold:\n",
    "                counter += 1\n",
    "            i += 1\n",
    "        return counter"
   ]
  },
  {
   "cell_type": "code",
   "execution_count": 11,
   "metadata": {},
   "outputs": [],
   "source": [
    "# also time limit exceeded\n",
    "\n",
    "from typing import List\n",
    "\n",
    "class Solution:\n",
    "    def numOfSubarrays(self, arr: List[int], k: int, threshold: int) -> int:\n",
    "        \n",
    "        nums = []\n",
    "        counter = 0\n",
    "        i = 0\n",
    "\n",
    "        while i < len(arr):\n",
    "            if len(nums) == k:\n",
    "                nums.pop(0)\n",
    "\n",
    "            nums.append(arr[i])\n",
    "            \n",
    "            if len(nums) == k and self.mean(nums, len(nums)) >= threshold:\n",
    "                counter += 1\n",
    "\n",
    "            i += 1\n",
    "        return counter\n",
    "    \n",
    "    def mean(self, arr: List[int], total: int) -> int:\n",
    "        return sum(arr) / total"
   ]
  },
  {
   "cell_type": "code",
   "execution_count": 21,
   "metadata": {},
   "outputs": [],
   "source": [
    "# attempt 3, sliding window\n",
    "\n",
    "from typing import List\n",
    "\n",
    "class Solution:\n",
    "    def numOfSubarrays(self, arr: List[int], k: int, threshold: int) -> int:\n",
    "        \n",
    "        # start the window with first k elements\n",
    "        counter = 0\n",
    "        sum = 0\n",
    "        for i in range(0, k):   # [0, k-1]\n",
    "            sum = sum + arr[i]\n",
    "\n",
    "        if (sum/k) >= threshold:\n",
    "            counter += 1\n",
    "\n",
    "        for i in range(k, len(arr)):\n",
    "            sum = sum + arr[i]\n",
    "            sum = sum - arr[i-k]\n",
    "\n",
    "            if (sum/k) >= threshold:\n",
    "                counter += 1\n",
    "        return counter"
   ]
  },
  {
   "cell_type": "code",
   "execution_count": 22,
   "metadata": {},
   "outputs": [
    {
     "name": "stdout",
     "output_type": "stream",
     "text": [
      "6\n",
      "6\n",
      "9\n",
      "12\n",
      "15\n",
      "2\n"
     ]
    }
   ],
   "source": [
    "obj = Solution()\n",
    "print(obj.numOfSubarrays([2,2,2,2,5,5,5,8], 3, 4))"
   ]
  }
 ],
 "metadata": {
  "kernelspec": {
   "display_name": "Python 3.9.7 64-bit",
   "language": "python",
   "name": "python3"
  },
  "language_info": {
   "codemirror_mode": {
    "name": "ipython",
    "version": 3
   },
   "file_extension": ".py",
   "mimetype": "text/x-python",
   "name": "python",
   "nbconvert_exporter": "python",
   "pygments_lexer": "ipython3",
   "version": "3.9.7"
  },
  "orig_nbformat": 4,
  "vscode": {
   "interpreter": {
    "hash": "fb0118d73d3d26f88e0d1e3500a56a7fc92e760d5128bb0bdb4d57f6bad5166f"
   }
  }
 },
 "nbformat": 4,
 "nbformat_minor": 2
}
