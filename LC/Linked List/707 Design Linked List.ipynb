{
 "cells": [
  {
   "cell_type": "code",
   "execution_count": 14,
   "metadata": {},
   "outputs": [
    {
     "data": {
      "text/plain": [
       "-1"
      ]
     },
     "execution_count": 14,
     "metadata": {},
     "output_type": "execute_result"
    }
   ],
   "source": [
    "class ListNode:\n",
    "    def __init__(self, val):\n",
    "        self.val = val\n",
    "        self.next = None\n",
    "\n",
    "class MyLinkedList:\n",
    "\n",
    "    def __init__(self):\n",
    "        self.head = None\n",
    "        self.size = 0\n",
    "\n",
    "    def get(self, index: int) -> int:\n",
    "\n",
    "        # if empty return error or -1\n",
    "        if index < 0  or index >= self.size:\n",
    "            return -1\n",
    "\n",
    "        i = 0\n",
    "        curr = self.head\n",
    "\n",
    "        while (i < index):\n",
    "            curr = curr.next\n",
    "            i += 1\n",
    "\n",
    "        return curr.val\n",
    "\n",
    "    def addAtHead(self, val: int) -> None:\n",
    "        #self.addAtIndex(0, val)\n",
    "        newNode = ListNode(val)\n",
    "        newNode.next = self.head\n",
    "        self.head = newNode\n",
    "        self.size += 1\n",
    "\n",
    "    def addAtTail(self, val: int) -> None:\n",
    "        self.addAtIndex(self.size, val)    \n",
    "        # curr = self.head                  # gotta take of adding with no elements in list like addatindex again\n",
    "        # while (curr.next != None):\n",
    "        #     curr = curr.next\n",
    "\n",
    "        # newNode = ListNode(val)\n",
    "        # curr.next = newNode\n",
    "        # self.size += 1\n",
    "\n",
    "    def addAtIndex(self, index: int, val: int) -> None:\n",
    "        if index < 0 or index > self.size:\n",
    "            return\n",
    "\n",
    "        newNode = ListNode(val)\n",
    "        curr = self.head\n",
    "\n",
    "        if index <= 0:\n",
    "            newNode.next = curr\n",
    "            self.head = newNode\n",
    "        else:\n",
    "            i = 0\n",
    "            while (i < index-1):    # go to 1 before the index, \n",
    "                curr = curr.next\n",
    "                i += 1\n",
    "            \n",
    "            newNode.next = curr.next\n",
    "            curr.next = newNode\n",
    "\n",
    "        self.size += 1\n",
    "\n",
    "    def deleteAtIndex(self, index: int) -> None:\n",
    "        if index < 0 or index >= self.size:\n",
    "            return\n",
    "\n",
    "        # if index is 0 then just remove head\n",
    "        if index == 0:\n",
    "            self.head = self.head.next\n",
    "        else:\n",
    "            curr = self.head\n",
    "            i = 0\n",
    "            while (i < index-1):    # go to 1 before the index, \n",
    "                curr = curr.next\n",
    "                i += 1\n",
    "            \n",
    "            curr.next = curr.next.next\n",
    "        self.size -= 1\n",
    "\n",
    "\n",
    "# myLinkedList = MyLinkedList()\n",
    "# myLinkedList.addAtHead(1)\n",
    "# myLinkedList.addAtTail(3)\n",
    "# myLinkedList.addAtIndex(1, 2);    # linked list becomes 1->2->3\n",
    "# myLinkedList.get(1)              # return 2\n",
    "# myLinkedList.deleteAtIndex(1)    # now the linked list is 1->3\n",
    "# myLinkedList.get(1)              # return 3\n",
    "\n",
    "myLinkedList = MyLinkedList()\n",
    "myLinkedList.addAtTail(1)\n",
    "myLinkedList.get(1)             "
   ]
  }
 ],
 "metadata": {
  "kernelspec": {
   "display_name": "Python 3.9.7 64-bit",
   "language": "python",
   "name": "python3"
  },
  "language_info": {
   "codemirror_mode": {
    "name": "ipython",
    "version": 3
   },
   "file_extension": ".py",
   "mimetype": "text/x-python",
   "name": "python",
   "nbconvert_exporter": "python",
   "pygments_lexer": "ipython3",
   "version": "3.9.7"
  },
  "orig_nbformat": 4,
  "vscode": {
   "interpreter": {
    "hash": "fb0118d73d3d26f88e0d1e3500a56a7fc92e760d5128bb0bdb4d57f6bad5166f"
   }
  }
 },
 "nbformat": 4,
 "nbformat_minor": 2
}
