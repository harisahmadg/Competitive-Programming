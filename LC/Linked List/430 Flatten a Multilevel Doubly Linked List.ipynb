{
 "cells": [
  {
   "cell_type": "code",
   "execution_count": null,
   "metadata": {},
   "outputs": [],
   "source": [
    "# for iterative sol use a stack\n",
    "from typing import Optional\n",
    "\"\"\"\n",
    "# Definition for a Node.\n",
    "\"\"\"\n",
    "class Node:\n",
    "    def __init__(self, val, prev, next, child):\n",
    "        self.val = val\n",
    "        self.prev = prev\n",
    "        self.next = next\n",
    "        self.child = child\n",
    "\n",
    "class Solution:\n",
    "    def flatten(self, head: 'Optional[Node]') -> 'Optional[Node]':\n",
    "        final = curr = head\n",
    "\n",
    "        while (curr != None):\n",
    "            if curr.child:\n",
    "                # loop through child stuff\n",
    "                tmp = curr\n",
    "                while (tmp != None):\n",
    "                    \n",
    "            else:\n",
    "                curr = curr.next \n",
    "        "
   ]
  },
  {
   "cell_type": "code",
   "execution_count": null,
   "metadata": {},
   "outputs": [],
   "source": [
    "# try recursion, cant figure out a simple iterative sol\n",
    "from typing import Optional\n",
    "\"\"\"\n",
    "# Definition for a Node.\n",
    "\"\"\"\n",
    "class Node:\n",
    "    def __init__(self, val, prev, next, child):\n",
    "        self.val = val\n",
    "        self.prev = prev\n",
    "        self.next = next\n",
    "        self.child = child\n",
    "\n",
    "class Solution:\n",
    "    def flatten(self, head: 'Optional[Node]') -> 'Optional[Node]':\n",
    "        \n",
    "        curr = flat = head      # flat var will go along curr and change it to the correct nodes, curr searches for childs\n",
    "        self.helper(flat, curr)\n",
    "        return head\n",
    "\n",
    "    def helper(self, flat: 'Optional[Node]', curr: 'Optional[Node]'):\n",
    "        \n",
    "        while (curr != None and curr.next != None):\n",
    "            if curr.child:\n",
    "                # print(curr.child.val)\n",
    "                flat.next = curr.child\n",
    "                flat = flat.next\n",
    "                self.helper(flat, curr.child)   # go into the inner loop of child, get out when done filling the flat\n",
    "            # print(flat.val)\n",
    "            flat.next = curr.next\n",
    "            flat = flat.next\n",
    "            curr = curr.next\n",
    "        return\n",
    "\n",
    "# https://leetcode.com/problems/flatten-a-multilevel-doubly-linked-list/discuss/152725/Python-solution-with-explanation"
   ]
  }
 ],
 "metadata": {
  "language_info": {
   "name": "python"
  },
  "orig_nbformat": 4
 },
 "nbformat": 4,
 "nbformat_minor": 2
}
