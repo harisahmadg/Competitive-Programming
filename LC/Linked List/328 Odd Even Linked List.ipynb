{
 "cells": [
  {
   "cell_type": "code",
   "execution_count": null,
   "metadata": {},
   "outputs": [],
   "source": [
    "# Definition for singly-linked list.\n",
    "from typing import Optional\n",
    "class ListNode:\n",
    "    def __init__(self, val=0, next=None):\n",
    "        self.val = val\n",
    "        self.next = next\n",
    "class Solution:\n",
    "    def oddEvenList(self, head: Optional[ListNode]) -> Optional[ListNode]:\n",
    "        \n",
    "        if head == None:    # if empty return head, handles 0 case\n",
    "            return head\n",
    "            \n",
    "        odd = head          # if empty, it will point to None\n",
    "        even = head.next    # if empty, error?, if 1 then point to None\n",
    "        split = even        # where odd will point to even\n",
    "\n",
    "        while (even != None and even.next != None):\n",
    "            odd.next = odd.next.next\n",
    "            even.next = even.next.next\n",
    "\n",
    "            odd = odd.next\n",
    "            even = even.next\n",
    "        \n",
    "        odd.next = split\n",
    "        return head"
   ]
  }
 ],
 "metadata": {
  "language_info": {
   "name": "python"
  },
  "orig_nbformat": 4
 },
 "nbformat": 4,
 "nbformat_minor": 2
}
