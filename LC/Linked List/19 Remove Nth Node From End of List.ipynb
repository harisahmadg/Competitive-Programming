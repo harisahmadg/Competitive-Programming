{
 "cells": [
  {
   "cell_type": "code",
   "execution_count": null,
   "metadata": {},
   "outputs": [],
   "source": [
    "# idea1: not 1 pass sol, first count up to end to get size, then use counter to get up to that size and remove it\n",
    "# idea2: use 2 pointers, 1 pass sol"
   ]
  },
  {
   "cell_type": "code",
   "execution_count": null,
   "metadata": {},
   "outputs": [],
   "source": [
    "# idea1\n",
    "\n",
    "from typing import Optional\n",
    "class ListNode:\n",
    "    def __init__(self, val=0, next=None):\n",
    "        self.val = val\n",
    "        self.next = next\n",
    "class Solution:\n",
    "    def removeNthFromEnd(self, head: Optional[ListNode], n: int) -> Optional[ListNode]:\n",
    "        # get size of the LL\n",
    "        size = 0\n",
    "        curr = head\n",
    "        while (curr != None):\n",
    "            curr = curr.next\n",
    "            size += 1\n",
    "\n",
    "        # if size <= 1:\n",
    "        #     return None\n",
    "\n",
    "        if size-n == 0: # remove the 0th element\n",
    "            return head.next\n",
    "        # go up to size-n\n",
    "        i = 0\n",
    "        curr = head\n",
    "        while (i < size-n-1):     # not <= cuz we want to go to 1 less than index to get prev node\n",
    "            curr = curr.next\n",
    "            i += 1\n",
    "        curr.next = curr.next.next\n",
    "        return head\n",
    "\n",
    "obj = Solution()"
   ]
  },
  {
   "cell_type": "code",
   "execution_count": null,
   "metadata": {},
   "outputs": [],
   "source": [
    "# idea2, pointer1 moves head2 up to n places, say size is 10, it goes to n=2 place, then we start head1 and it will go only 10-2=8 times more\n",
    "# we end up reaching the 2nd last element like required, but we go 1 less than that to get the prev pointer and point it next\n",
    "\n",
    "class Solution:\n",
    "    def removeNthFromEnd(self, head: Optional[ListNode], n: int) -> Optional[ListNode]:\n",
    "        h1 = h2 = head\n",
    "        while n > 0:\n",
    "            h2 = h2.next\n",
    "            n -= 1\n",
    "        \n",
    "        # if h2 is None then remove head\n",
    "\n",
    "        if h2 == None:\n",
    "            return head.next\n",
    "        \n",
    "        # go to end with h2\n",
    "\n",
    "        while (h2.next != None):\n",
    "            h1 = h1.next\n",
    "            h2 = h2.next\n",
    "\n",
    "        h1.next = h1.next.next\n",
    "        return head"
   ]
  }
 ],
 "metadata": {
  "language_info": {
   "name": "python"
  },
  "orig_nbformat": 4
 },
 "nbformat": 4,
 "nbformat_minor": 2
}
