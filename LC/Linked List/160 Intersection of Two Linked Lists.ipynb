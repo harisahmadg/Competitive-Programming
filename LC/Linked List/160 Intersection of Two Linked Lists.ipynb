{
 "cells": [
  {
   "cell_type": "code",
   "execution_count": 1,
   "metadata": {},
   "outputs": [],
   "source": [
    "# Definition for singly-linked list.\n",
    "from typing import Optional\n",
    "\n",
    "class ListNode:\n",
    "    def __init__(self, x):\n",
    "        self.val = x\n",
    "        self.next = None\n",
    "\n",
    "class Solution:\n",
    "    def getIntersectionNode(self, headA: ListNode, headB: ListNode) -> Optional[ListNode]:\n",
    "        \n",
    "        seen = set()\n",
    "        tmp = headA\n",
    "        while (tmp != None):\n",
    "            seen.add(tmp)\n",
    "            tmp = tmp.next\n",
    "        \n",
    "        tmp = headB\n",
    "        while (tmp != None):\n",
    "            if tmp in seen:\n",
    "                return tmp\n",
    "            seen.add(tmp)\n",
    "            tmp = tmp.next\n"
   ]
  },
  {
   "cell_type": "code",
   "execution_count": null,
   "metadata": {},
   "outputs": [],
   "source": [
    "# Definition for singly-linked list.\n",
    "from typing import Optional\n",
    "\n",
    "class ListNode:\n",
    "    def __init__(self, x):\n",
    "        self.val = x\n",
    "        self.next = None\n",
    "\n",
    "class Solution:\n",
    "    def getIntersectionNode(self, headA: ListNode, headB: ListNode) -> Optional[ListNode]:\n",
    "        # Non O(1) memory solution\n",
    "        seen = set()\n",
    "        tmp1 = headA\n",
    "        tmp2 = headB\n",
    "        while (tmp1 != None or tmp2 != None):\n",
    "            if tmp1 == None:\n",
    "                if tmp2 in seen:\n",
    "                    return tmp2\n",
    "                seen.add(tmp2)\n",
    "                tmp2 = tmp2.next\n",
    "            else:\n",
    "                if tmp1 in seen:\n",
    "                    return tmp1\n",
    "                seen.add(tmp1)\n",
    "                tmp1 = tmp1.next"
   ]
  }
 ],
 "metadata": {
  "kernelspec": {
   "display_name": "Python 3.9.7 64-bit",
   "language": "python",
   "name": "python3"
  },
  "language_info": {
   "codemirror_mode": {
    "name": "ipython",
    "version": 3
   },
   "file_extension": ".py",
   "mimetype": "text/x-python",
   "name": "python",
   "nbconvert_exporter": "python",
   "pygments_lexer": "ipython3",
   "version": "3.9.7"
  },
  "orig_nbformat": 4,
  "vscode": {
   "interpreter": {
    "hash": "fb0118d73d3d26f88e0d1e3500a56a7fc92e760d5128bb0bdb4d57f6bad5166f"
   }
  }
 },
 "nbformat": 4,
 "nbformat_minor": 2
}
