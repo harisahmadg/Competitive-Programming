{
 "cells": [
  {
   "cell_type": "code",
   "execution_count": null,
   "metadata": {},
   "outputs": [],
   "source": [
    "# Definition for singly-linked list.\n",
    "from typing import Optional\n",
    "\n",
    "class ListNode:\n",
    "    def __init__(self, val=0, next=None):\n",
    "        self.val = val\n",
    "        self.next = next\n",
    "\n",
    "class Solution:\n",
    "    def isPalindrome(self, head: Optional[ListNode]) -> bool:\n",
    "        # my idea is use 2 pointers one fast one slow, find the half way point, no reverse it, then make a \n",
    "        # another loop comparing 1 by 1 the vals to see if they match\n",
    "\n",
    "        slow = fast = h1 = head\n",
    "\n",
    "        while (fast != None and fast.next != None):\n",
    "            slow = slow.next\n",
    "            fast = fast.next.next\n",
    "        \n",
    "        # from 2nd to end, reverse it\n",
    "        prev = None\n",
    "        h2 = slow\n",
    "        while (h2 != None):\n",
    "            curr = h2\n",
    "            h2 = h2.next\n",
    "            curr.next = prev\n",
    "            prev = curr\n",
    "\n",
    "        # now we got h1 and h2, compare them\n",
    "        while (h2 != None):\n",
    "            if h1.val != h2.val:\n",
    "                return False\n",
    "            print(h1.val)\n",
    "            print(h2.val)\n",
    "            h1 = h1.next\n",
    "            h2 = h2.next\n",
    "\n",
    "        return True\n",
    "\n",
    "# this solution messes up the original linkedlist listnodes after we reverse and check for true / false, we can reverse again and put it back"
   ]
  }
 ],
 "metadata": {
  "language_info": {
   "name": "python"
  },
  "orig_nbformat": 4
 },
 "nbformat": 4,
 "nbformat_minor": 2
}
