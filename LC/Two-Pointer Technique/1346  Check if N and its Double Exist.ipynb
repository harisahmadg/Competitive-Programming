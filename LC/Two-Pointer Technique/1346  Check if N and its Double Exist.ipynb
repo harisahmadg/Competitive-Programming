{
 "cells": [
  {
   "cell_type": "code",
   "execution_count": 21,
   "metadata": {},
   "outputs": [
    {
     "name": "stdout",
     "output_type": "stream",
     "text": [
      "False\n"
     ]
    }
   ],
   "source": [
    "from typing import List\n",
    "\n",
    "class Solution:\n",
    "    def checkIfExist(self, arr: List[int]) -> bool:\n",
    "        i = 0\n",
    "        j = 0\n",
    "    \n",
    "        while (i < len(arr)):\n",
    "            if i != j and (arr[i] == 2*arr[j] or (arr[j]%2 == 0 and arr[i] == arr[j]//2)):\n",
    "                return True\n",
    "            else:\n",
    "                if j+1 < len(arr):\n",
    "                    j += 1\n",
    "                else:\n",
    "                    i += 1\n",
    "                    j = i+1\n",
    "                    if j >= len(arr):\n",
    "                        i+= 2\n",
    "        return False\n",
    "\n",
    "obj = Solution()\n",
    "nums = [3,1,7,11]\n",
    "print(obj.checkIfExist(nums))"
   ]
  },
  {
   "cell_type": "code",
   "execution_count": 24,
   "metadata": {},
   "outputs": [
    {
     "name": "stdout",
     "output_type": "stream",
     "text": [
      "False\n"
     ]
    }
   ],
   "source": [
    "# using set() or hashset is faster in one pass\n",
    "\n",
    "class Solution:\n",
    "    def checkIfExist(self, arr: List[int]) -> bool:\n",
    "        buffer = set()\n",
    "\n",
    "        for i in arr:\n",
    "            if 2*i in buffer or i/2 in buffer:\n",
    "                return True\n",
    "            else:\n",
    "                buffer.add(i)\n",
    "        return False\n",
    "obj = Solution()\n",
    "\n",
    "nums = [3,1,7,11]\n",
    "#print(nums)\n",
    "print(obj.checkIfExist(nums))\n",
    "#print(nums)"
   ]
  }
 ],
 "metadata": {
  "kernelspec": {
   "display_name": "Python 3.9.7 64-bit",
   "language": "python",
   "name": "python3"
  },
  "language_info": {
   "codemirror_mode": {
    "name": "ipython",
    "version": 3
   },
   "file_extension": ".py",
   "mimetype": "text/x-python",
   "name": "python",
   "nbconvert_exporter": "python",
   "pygments_lexer": "ipython3",
   "version": "3.9.7"
  },
  "orig_nbformat": 4,
  "vscode": {
   "interpreter": {
    "hash": "fb0118d73d3d26f88e0d1e3500a56a7fc92e760d5128bb0bdb4d57f6bad5166f"
   }
  }
 },
 "nbformat": 4,
 "nbformat_minor": 2
}
