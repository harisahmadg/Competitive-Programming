{
 "cells": [
  {
   "cell_type": "code",
   "execution_count": 16,
   "metadata": {},
   "outputs": [
    {
     "name": "stdout",
     "output_type": "stream",
     "text": [
      "[2, 0]\n",
      "[1, 2]\n"
     ]
    }
   ],
   "source": [
    "from typing import List\n",
    "\n",
    "class Solution:\n",
    "    def merge(self, nums1: List[int], m: int, nums2: List[int], n: int) -> None:\n",
    "        \"\"\"\n",
    "        Do not return anything, modify nums1 in-place instead.\n",
    "        \"\"\"\n",
    "        count = n+m-1\n",
    "        m -= 1\n",
    "        n -= 1\n",
    "        \n",
    "        while (m >= 0 and n >= 0):\n",
    "            if nums1[m] > nums2[n]:\n",
    "                nums1[count] = nums1[m]\n",
    "                count -= 1\n",
    "                m -= 1\n",
    "            else:\n",
    "                nums1[count] = nums2[n]\n",
    "                count -= 1\n",
    "                n -= 1\n",
    "        \n",
    "        # copy the remaining\n",
    "        while n >= 0:\n",
    "            nums1[count] = nums2[n]\n",
    "            count -= 1\n",
    "            n -= 1\n",
    "        \n",
    "        \n",
    "\n",
    "obj = Solution()\n",
    "\n",
    "nums1 = [2, 0]\n",
    "m = 1\n",
    "nums2 = [1]\n",
    "n = 1\n",
    "print(nums1)\n",
    "obj.merge(nums1, m, nums2, n)\n",
    "print(nums1)"
   ]
  },
  {
   "cell_type": "code",
   "execution_count": null,
   "metadata": {},
   "outputs": [],
   "source": [
    "# was hard, had to look at my old solution"
   ]
  }
 ],
 "metadata": {
  "kernelspec": {
   "display_name": "Python 3.9.7 64-bit",
   "language": "python",
   "name": "python3"
  },
  "language_info": {
   "codemirror_mode": {
    "name": "ipython",
    "version": 3
   },
   "file_extension": ".py",
   "mimetype": "text/x-python",
   "name": "python",
   "nbconvert_exporter": "python",
   "pygments_lexer": "ipython3",
   "version": "3.9.7"
  },
  "orig_nbformat": 4,
  "vscode": {
   "interpreter": {
    "hash": "fb0118d73d3d26f88e0d1e3500a56a7fc92e760d5128bb0bdb4d57f6bad5166f"
   }
  }
 },
 "nbformat": 4,
 "nbformat_minor": 2
}
