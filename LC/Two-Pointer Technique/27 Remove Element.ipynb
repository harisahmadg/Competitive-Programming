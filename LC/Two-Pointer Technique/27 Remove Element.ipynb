{
 "cells": [
  {
   "cell_type": "code",
   "execution_count": 5,
   "metadata": {},
   "outputs": [
    {
     "name": "stdout",
     "output_type": "stream",
     "text": [
      "[3, 2, 2, 3]\n",
      "[2, 2, 2, 3]\n"
     ]
    }
   ],
   "source": [
    "from typing import List\n",
    "\n",
    "class Solution:\n",
    "    def removeElement(self, nums: List[int], val: int) -> int:\n",
    "        \n",
    "        i = 0   # slow runner\n",
    "        j = 0   # fast runner\n",
    "\n",
    "        counter = 0\n",
    "        # count how many shifts there will be\n",
    "        for i in range(len(nums)):\n",
    "            if (nums[i] == val):\n",
    "                counter += 1\n",
    "\n",
    "        i = 0\n",
    "        while i < len(nums)-counter:\n",
    "            if (nums[j] != val):\n",
    "                nums[i] = nums[j]\n",
    "                i += 1\n",
    "            j += 1\n",
    "\n",
    "        return i\n",
    "\n",
    "        \n",
    "        \n",
    "\n",
    "obj = Solution()\n",
    "\n",
    "nums = [3,2,2,3]\n",
    "val = 3\n",
    "print(nums)\n",
    "obj.removeElement(nums, val)\n",
    "print(nums)"
   ]
  }
 ],
 "metadata": {
  "kernelspec": {
   "display_name": "Python 3.9.7 64-bit",
   "language": "python",
   "name": "python3"
  },
  "language_info": {
   "codemirror_mode": {
    "name": "ipython",
    "version": 3
   },
   "file_extension": ".py",
   "mimetype": "text/x-python",
   "name": "python",
   "nbconvert_exporter": "python",
   "pygments_lexer": "ipython3",
   "version": "3.9.7"
  },
  "orig_nbformat": 4,
  "vscode": {
   "interpreter": {
    "hash": "fb0118d73d3d26f88e0d1e3500a56a7fc92e760d5128bb0bdb4d57f6bad5166f"
   }
  }
 },
 "nbformat": 4,
 "nbformat_minor": 2
}
