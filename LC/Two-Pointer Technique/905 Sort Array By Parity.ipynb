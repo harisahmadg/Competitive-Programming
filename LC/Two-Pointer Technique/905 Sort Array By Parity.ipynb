{
 "cells": [
  {
   "cell_type": "code",
   "execution_count": 5,
   "metadata": {},
   "outputs": [
    {
     "name": "stdout",
     "output_type": "stream",
     "text": [
      "[0]\n"
     ]
    }
   ],
   "source": [
    "from typing import List\n",
    "\n",
    "class Solution:\n",
    "    def sortArrayByParity(self, nums: List[int]) -> List[int]:\n",
    "        \n",
    "        i = 0\n",
    "        j = len(nums)-1\n",
    "\n",
    "        while (i <= j):\n",
    "            if (nums[i]%2 == 1): # if odd, swap with j var at the end\n",
    "                tmp = nums[i]\n",
    "                nums[i] = nums[j]\n",
    "                nums[j] = tmp\n",
    "\n",
    "                # decrement the j pointer but only increment i if its even also\n",
    "                if nums[i]%2 == 0:\n",
    "                    i += 1\n",
    "                j -= 1\n",
    "            else:\n",
    "                # even so increment i\n",
    "                i += 1\n",
    "\n",
    "        return nums\n",
    "\n",
    "\n",
    "obj = Solution()\n",
    "nums = [3,1,2,4]\n",
    "print(obj.sortArrayByParity(nums))"
   ]
  }
 ],
 "metadata": {
  "kernelspec": {
   "display_name": "Python 3.9.7 64-bit",
   "language": "python",
   "name": "python3"
  },
  "language_info": {
   "codemirror_mode": {
    "name": "ipython",
    "version": 3
   },
   "file_extension": ".py",
   "mimetype": "text/x-python",
   "name": "python",
   "nbconvert_exporter": "python",
   "pygments_lexer": "ipython3",
   "version": "3.9.7"
  },
  "orig_nbformat": 4,
  "vscode": {
   "interpreter": {
    "hash": "fb0118d73d3d26f88e0d1e3500a56a7fc92e760d5128bb0bdb4d57f6bad5166f"
   }
  }
 },
 "nbformat": 4,
 "nbformat_minor": 2
}
