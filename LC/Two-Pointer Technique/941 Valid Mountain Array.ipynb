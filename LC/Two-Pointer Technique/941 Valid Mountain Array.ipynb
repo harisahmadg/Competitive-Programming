{
 "cells": [
  {
   "cell_type": "code",
   "execution_count": 5,
   "metadata": {},
   "outputs": [
    {
     "name": "stdout",
     "output_type": "stream",
     "text": [
      "True\n"
     ]
    }
   ],
   "source": [
    "from typing import List\n",
    "\n",
    "class Solution:\n",
    "    def validMountainArray(self, arr: List[int]) -> bool:\n",
    "        \n",
    "        i = 1\n",
    "        length = len(arr)\n",
    "        peaked = False\n",
    "\n",
    "        # edge cases\n",
    "        if length < 3:\n",
    "            return False\n",
    "        if (arr[0] >= arr[1]):\n",
    "            return False\n",
    "\n",
    "        while i<length:\n",
    "\n",
    "            if (not peaked and arr[i] < arr[i-1]):\n",
    "                peaked = True\n",
    "\n",
    "            if (not peaked and arr[i] <= arr[i-1]):    # if its supposed to be increasing but it isnt\n",
    "                return False\n",
    "            if (peaked and arr[i] >= arr[i-1]):\n",
    "                return False\n",
    "            i += 1\n",
    "        return peaked\n",
    "\n",
    "\n",
    "obj = Solution()\n",
    "nums = [9,8,7,6,5,4,3,2,1,0]\n",
    "#print(nums)\n",
    "print(obj.validMountainArray(nums))\n",
    "#print(nums)"
   ]
  }
 ],
 "metadata": {
  "kernelspec": {
   "display_name": "Python 3.9.7 64-bit",
   "language": "python",
   "name": "python3"
  },
  "language_info": {
   "codemirror_mode": {
    "name": "ipython",
    "version": 3
   },
   "file_extension": ".py",
   "mimetype": "text/x-python",
   "name": "python",
   "nbconvert_exporter": "python",
   "pygments_lexer": "ipython3",
   "version": "3.9.7"
  },
  "orig_nbformat": 4,
  "vscode": {
   "interpreter": {
    "hash": "fb0118d73d3d26f88e0d1e3500a56a7fc92e760d5128bb0bdb4d57f6bad5166f"
   }
  }
 },
 "nbformat": 4,
 "nbformat_minor": 2
}
