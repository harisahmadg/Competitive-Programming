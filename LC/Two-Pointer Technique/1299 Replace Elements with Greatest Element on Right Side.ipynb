{
 "cells": [
  {
   "cell_type": "code",
   "execution_count": 2,
   "metadata": {},
   "outputs": [
    {
     "name": "stdout",
     "output_type": "stream",
     "text": [
      "[17, 18, 5, 4, 6, 1]\n",
      "None\n",
      "[18, 6, 6, 6, 1, -1]\n"
     ]
    }
   ],
   "source": [
    "# going from front to back is a O(n^2) solution but back to front is O(n)\n",
    "\n",
    "from typing import List\n",
    "\n",
    "class Solution:\n",
    "    def replaceElements(self, arr: List[int]) -> List[int]:\n",
    "    \n",
    "        greatest = -1\n",
    "        i = len(arr)-1\n",
    "\n",
    "        while (i >= 0):\n",
    "            tmp = greatest\n",
    "            if arr[i] > greatest:\n",
    "                greatest = arr[i]\n",
    "            arr[i] = tmp\n",
    "            i -= 1\n",
    "        return arr\n",
    "\n",
    "obj = Solution()\n",
    "nums = [17,18,5,4,6,1]\n",
    "print(nums)\n",
    "print(obj.replaceElements(nums))\n",
    "print(nums)"
   ]
  }
 ],
 "metadata": {
  "kernelspec": {
   "display_name": "Python 3.9.7 64-bit",
   "language": "python",
   "name": "python3"
  },
  "language_info": {
   "codemirror_mode": {
    "name": "ipython",
    "version": 3
   },
   "file_extension": ".py",
   "mimetype": "text/x-python",
   "name": "python",
   "nbconvert_exporter": "python",
   "pygments_lexer": "ipython3",
   "version": "3.9.7"
  },
  "orig_nbformat": 4,
  "vscode": {
   "interpreter": {
    "hash": "fb0118d73d3d26f88e0d1e3500a56a7fc92e760d5128bb0bdb4d57f6bad5166f"
   }
  }
 },
 "nbformat": 4,
 "nbformat_minor": 2
}
