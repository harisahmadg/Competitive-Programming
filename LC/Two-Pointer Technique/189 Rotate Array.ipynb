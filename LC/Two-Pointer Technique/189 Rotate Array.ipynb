{
 "cells": [
  {
   "cell_type": "code",
   "execution_count": 39,
   "metadata": {},
   "outputs": [
    {
     "name": "stdout",
     "output_type": "stream",
     "text": [
      "[1, 2, 3, 4, 5, 6, 7]\n",
      "[6, 7, 1, 2, 3, 4, 5]\n"
     ]
    }
   ],
   "source": [
    "# Uses O(n) time but also O(n) , so not optimal\n",
    "from typing import List\n",
    "\n",
    "class Solution:\n",
    "    def rotate(self, nums: List[int], k: int) -> None:\n",
    "        \"\"\"\n",
    "        Do not return anything, modify nums in-place instead.\n",
    "        \"\"\"\n",
    "        n = len(nums)\n",
    "        k = k % n\n",
    "        nums[:] = nums[n-k:] + nums[:n-k]\n",
    "\n",
    "obj = Solution()\n",
    "\n",
    "nums = [1,2,3,4,5,6,7]\n",
    "k = 2\n",
    "print(nums)\n",
    "obj.rotate(nums, k)\n",
    "print(nums)"
   ]
  },
  {
   "cell_type": "code",
   "execution_count": 57,
   "metadata": {},
   "outputs": [
    {
     "name": "stdout",
     "output_type": "stream",
     "text": [
      "[1, 2, 3, 4, 5, 6, 7]\n",
      "[7, 6, 5, 4, 3, 2, 1]\n",
      "[5, 6, 7, 4, 3, 2, 1]\n",
      "[5, 6, 7, 1, 2, 3, 4]\n"
     ]
    }
   ],
   "source": [
    "# O(n) time and O(1) space\n",
    "\n",
    "# Uses O(n) time but also O(n) , so not optimal\n",
    "from typing import List\n",
    "\n",
    "class Solution:\n",
    "    def rotate(self, nums: List[int], k: int) -> None:\n",
    "        \"\"\"\n",
    "        Do not return anything, modify nums in-place instead.\n",
    "        \"\"\"\n",
    "        k = k%len(nums)\n",
    "        last = len(nums)-1\n",
    "        print(nums)\n",
    "        self.reverse(nums, 0, last)  # reverse the whole thing first, this gets the ending k needed to rotate to the fron\n",
    "        print(nums)\n",
    "        self.reverse(nums, 0, k-1)        # rotate the first k to fix them\n",
    "        print(nums)\n",
    "        self.reverse(nums, k, last)        # rotate the remaining\n",
    "        print(nums)\n",
    "\n",
    "    def reverse(self, nums: List[int], start: int, end: int) -> None:\n",
    "        while start < end:\n",
    "            tmp = nums[start]\n",
    "            nums[start] = nums[end]\n",
    "            nums[end] = tmp\n",
    "            start += 1\n",
    "            end -= 1\n",
    "\n",
    "\n",
    "obj = Solution()\n",
    "\n",
    "nums = [1,2,3,4,5,6,7]\n",
    "k = 3\n",
    "\n",
    "#print(nums)\n",
    "obj.rotate(nums, k)\n",
    "#print(nums)"
   ]
  }
 ],
 "metadata": {
  "kernelspec": {
   "display_name": "Python 3.9.7 64-bit",
   "language": "python",
   "name": "python3"
  },
  "language_info": {
   "codemirror_mode": {
    "name": "ipython",
    "version": 3
   },
   "file_extension": ".py",
   "mimetype": "text/x-python",
   "name": "python",
   "nbconvert_exporter": "python",
   "pygments_lexer": "ipython3",
   "version": "3.9.7"
  },
  "orig_nbformat": 4,
  "vscode": {
   "interpreter": {
    "hash": "fb0118d73d3d26f88e0d1e3500a56a7fc92e760d5128bb0bdb4d57f6bad5166f"
   }
  }
 },
 "nbformat": 4,
 "nbformat_minor": 2
}
