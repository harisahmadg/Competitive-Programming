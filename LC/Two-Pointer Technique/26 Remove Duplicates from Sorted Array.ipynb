{
 "cells": [
  {
   "cell_type": "code",
   "execution_count": 6,
   "metadata": {},
   "outputs": [
    {
     "name": "stdout",
     "output_type": "stream",
     "text": [
      "[1, 1, 2]\n",
      "[0, 0, 1, 1, 1, 2, 2, 3, 3, 4]\n",
      "2\n",
      "5\n",
      "[1, 2, 2]\n",
      "[0, 1, 2, 3, 4, 2, 2, 3, 3, 4]\n"
     ]
    }
   ],
   "source": [
    "from typing import List\n",
    "\n",
    "class Solution:\n",
    "    def removeDuplicates(self, nums: List[int]) -> int:\n",
    "        if (len(nums) <= 1):\n",
    "            return len(nums)\n",
    "\n",
    "        i, j = 0, 1     # i is slow runner, j is fast runner\n",
    "        while (j < len(nums)):\n",
    "            if (nums[i] == nums[j]):\n",
    "                j += 1\n",
    "            else:\n",
    "                i += 1\n",
    "                nums[i] = nums[j]\n",
    "                j += 1\n",
    "        return i+1\n",
    "\n",
    "obj = Solution()\n",
    "\n",
    "nums1 = [1,1,2]\n",
    "nums2 = [0,0,1,1,1,2,2,3,3,4]\n",
    "print(nums1)\n",
    "print(nums2)\n",
    "\n",
    "print(obj.removeDuplicates(nums1))\n",
    "print(obj.removeDuplicates(nums2))\n",
    "\n",
    "print(nums1)\n",
    "print(nums2)"
   ]
  }
 ],
 "metadata": {
  "kernelspec": {
   "display_name": "Python 3.9.7 64-bit",
   "language": "python",
   "name": "python3"
  },
  "language_info": {
   "codemirror_mode": {
    "name": "ipython",
    "version": 3
   },
   "file_extension": ".py",
   "mimetype": "text/x-python",
   "name": "python",
   "nbconvert_exporter": "python",
   "pygments_lexer": "ipython3",
   "version": "3.9.7"
  },
  "orig_nbformat": 4,
  "vscode": {
   "interpreter": {
    "hash": "fb0118d73d3d26f88e0d1e3500a56a7fc92e760d5128bb0bdb4d57f6bad5166f"
   }
  }
 },
 "nbformat": 4,
 "nbformat_minor": 2
}
