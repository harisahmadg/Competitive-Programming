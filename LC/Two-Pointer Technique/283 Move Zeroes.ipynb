{
 "cells": [
  {
   "cell_type": "code",
   "execution_count": 4,
   "metadata": {},
   "outputs": [
    {
     "name": "stdout",
     "output_type": "stream",
     "text": [
      "None\n",
      "[0]\n"
     ]
    }
   ],
   "source": [
    "from typing import List\n",
    "\n",
    "class Solution:\n",
    "    def moveZeroes(self, nums: List[int]) -> None:\n",
    "        \"\"\"\n",
    "        Do not return anything, modify nums in-place instead.\n",
    "        \"\"\"\n",
    "        i = 0   # slow runner\n",
    "        j = 0   # fast runner\n",
    "        length = len(nums)\n",
    "\n",
    "        while (i < length):\n",
    "            if j >= length:\n",
    "                nums[i] = 0\n",
    "                i += 1\n",
    "            elif nums[j] != 0:\n",
    "                nums[i] = nums[j]\n",
    "                i += 1\n",
    "            j += 1\n",
    "        \n",
    "\n",
    "obj = Solution()\n",
    "nums = [0,1,0,3,12]\n",
    "print(obj.moveZeroes(nums))\n",
    "print(nums)"
   ]
  }
 ],
 "metadata": {
  "kernelspec": {
   "display_name": "Python 3.9.7 64-bit",
   "language": "python",
   "name": "python3"
  },
  "language_info": {
   "codemirror_mode": {
    "name": "ipython",
    "version": 3
   },
   "file_extension": ".py",
   "mimetype": "text/x-python",
   "name": "python",
   "nbconvert_exporter": "python",
   "pygments_lexer": "ipython3",
   "version": "3.9.7"
  },
  "orig_nbformat": 4,
  "vscode": {
   "interpreter": {
    "hash": "fb0118d73d3d26f88e0d1e3500a56a7fc92e760d5128bb0bdb4d57f6bad5166f"
   }
  }
 },
 "nbformat": 4,
 "nbformat_minor": 2
}
