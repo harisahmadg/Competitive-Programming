{
 "cells": [
  {
   "cell_type": "code",
   "execution_count": 1,
   "metadata": {},
   "outputs": [
    {
     "name": "stdout",
     "output_type": "stream",
     "text": [
      "2\n"
     ]
    }
   ],
   "source": [
    "# idea 1: make a list that is ordered let it be the \"Expected\" compare current with expected\n",
    "\n",
    "from typing import List\n",
    "\n",
    "class Solution:\n",
    "    def heightChecker(self, heights: List[int]) -> int:\n",
    "        \n",
    "        expected = sorted(heights)\n",
    "        count = 0\n",
    "\n",
    "        for i in range(len(heights)):\n",
    "            if heights[i] != expected[i]:\n",
    "                count += 1\n",
    "        return count\n",
    "\n",
    "obj = Solution()\n",
    "\n",
    "nums = [3,1,7,11]\n",
    "#print(nums)\n",
    "print(obj.heightChecker(nums))\n",
    "#print(nums)"
   ]
  },
  {
   "cell_type": "code",
   "execution_count": 3,
   "metadata": {},
   "outputs": [
    {
     "name": "stdout",
     "output_type": "stream",
     "text": [
      "2\n"
     ]
    }
   ],
   "source": [
    "# gonna attempt using zip()\n",
    "from typing import List\n",
    "\n",
    "class Solution:\n",
    "    def heightChecker(self, heights: List[int]) -> int:\n",
    "        \n",
    "        expected = sorted(heights)\n",
    "        count = 0\n",
    "\n",
    "        for h1, h2 in zip(heights, expected):\n",
    "            if h1 != h2:\n",
    "                count += 1\n",
    "        return count\n",
    "\n",
    "obj = Solution()\n",
    "\n",
    "nums = [3,1,7,11]\n",
    "#print(nums)\n",
    "print(obj.heightChecker(nums))\n",
    "#print(nums)"
   ]
  }
 ],
 "metadata": {
  "kernelspec": {
   "display_name": "Python 3.9.7 64-bit",
   "language": "python",
   "name": "python3"
  },
  "language_info": {
   "codemirror_mode": {
    "name": "ipython",
    "version": 3
   },
   "file_extension": ".py",
   "mimetype": "text/x-python",
   "name": "python",
   "nbconvert_exporter": "python",
   "pygments_lexer": "ipython3",
   "version": "3.9.7"
  },
  "orig_nbformat": 4,
  "vscode": {
   "interpreter": {
    "hash": "fb0118d73d3d26f88e0d1e3500a56a7fc92e760d5128bb0bdb4d57f6bad5166f"
   }
  }
 },
 "nbformat": 4,
 "nbformat_minor": 2
}
