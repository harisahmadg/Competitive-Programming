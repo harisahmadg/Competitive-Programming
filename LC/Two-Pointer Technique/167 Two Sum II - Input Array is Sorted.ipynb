{
 "cells": [
  {
   "cell_type": "code",
   "execution_count": 9,
   "metadata": {},
   "outputs": [
    {
     "name": "stdout",
     "output_type": "stream",
     "text": [
      "[3, 4]\n"
     ]
    }
   ],
   "source": [
    "from typing import List\n",
    "\n",
    "class Solution:\n",
    "    def twoSum(self, numbers: List[int], target: int) -> List[int]:\n",
    "        first = 0\n",
    "        second = 1\n",
    "        size = len(numbers)\n",
    "\n",
    "        if size == 2:\n",
    "            return [first+1, second+1]\n",
    "        elif size <= 1:\n",
    "            return [-1]\n",
    "        else:\n",
    "            while first < size:\n",
    "                second = first+1\n",
    "                while second < size:\n",
    "                    if (numbers[first] + numbers[second]) == target:\n",
    "                        return [first+1, second+1]\n",
    "                    second += 1\n",
    "                first += 1\n",
    "            return [-1]\n",
    "\n",
    "obj = Solution()\n",
    "\n",
    "n = [2,7,11,15]\n",
    "target = 26\n",
    "\n",
    "print(obj.twoSum(n, target))\n"
   ]
  },
  {
   "cell_type": "code",
   "execution_count": 2,
   "metadata": {},
   "outputs": [
    {
     "name": "stdout",
     "output_type": "stream",
     "text": [
      "[3, 4]\n"
     ]
    }
   ],
   "source": [
    "# solution above passes 18/21 but time limit exceeds since its O[n^2], gotta make it\n",
    "# O(n) but using a Hashmap or ill use a dictionary for now since im not there yet\n",
    "\n",
    "from typing import List\n",
    "\n",
    "class Solution:\n",
    "    def twoSum(self, numbers: List[int], target: int) -> List[int]:\n",
    "        i = 0\n",
    "        size = len(numbers)\n",
    "\n",
    "        cache = {}\n",
    "\n",
    "        if size == 2:\n",
    "            return [i+1, i+2]\n",
    "        elif size <= 1:\n",
    "            return [-1]\n",
    "        else:\n",
    "            while i < size:\n",
    "                if target-numbers[i] in cache:\n",
    "                    return [cache[target-numbers[i]]+1, i+1]\n",
    "\n",
    "                cache[numbers[i]] = i\n",
    "                i += 1\n",
    "\n",
    "\n",
    "obj = Solution()\n",
    "\n",
    "n = [2,7,11,15]\n",
    "target = 26\n",
    "\n",
    "print(obj.twoSum(n, target))\n"
   ]
  },
  {
   "cell_type": "code",
   "execution_count": null,
   "metadata": {},
   "outputs": [],
   "source": [
    "# Actual 2 pointer technique now\n",
    "\n"
   ]
  }
 ],
 "metadata": {
  "kernelspec": {
   "display_name": "Python 3.9.7 64-bit",
   "language": "python",
   "name": "python3"
  },
  "language_info": {
   "codemirror_mode": {
    "name": "ipython",
    "version": 3
   },
   "file_extension": ".py",
   "mimetype": "text/x-python",
   "name": "python",
   "nbconvert_exporter": "python",
   "pygments_lexer": "ipython3",
   "version": "3.9.7"
  },
  "orig_nbformat": 4,
  "vscode": {
   "interpreter": {
    "hash": "fb0118d73d3d26f88e0d1e3500a56a7fc92e760d5128bb0bdb4d57f6bad5166f"
   }
  }
 },
 "nbformat": 4,
 "nbformat_minor": 2
}
