{
 "cells": [
  {
   "cell_type": "code",
   "execution_count": 9,
   "metadata": {},
   "outputs": [
    {
     "name": "stdout",
     "output_type": "stream",
     "text": [
      "[-1, -1, -1, -1, -1, -1, -1, -1]\n",
      "[5, 6]\n"
     ]
    }
   ],
   "source": [
    "from typing import List\n",
    "\n",
    "class Solution:\n",
    "    def findDisappearedNumbers(self, nums: List[int]) -> List[int]:\n",
    "        # idea1 is, have a results list with 1-20 filled, iter through nums if we find number remove from results list\n",
    "        # idea2, sort the array now its [1,20] use a counter, if counter doesnt match\n",
    "        arr = [-1]*len(nums)\n",
    "        print(arr)\n",
    "        \n",
    "        i = 0\n",
    "        while (i < len(nums)):      # whereever theres -1 left still means it wasnt found in the list\n",
    "            arr[nums[i]-1] = nums[i]\n",
    "            i += 1\n",
    "\n",
    "        res = []\n",
    "        i = 0\n",
    "        while (i < len(arr)):\n",
    "            if arr[i] == -1:\n",
    "                res.append(i+1)\n",
    "            i += 1\n",
    "        return res\n",
    "obj = Solution()\n",
    "nums = [4,3,2,7,8,2,3,1]\n",
    "print(obj.findDisappearedNumbers(nums))"
   ]
  }
 ],
 "metadata": {
  "kernelspec": {
   "display_name": "Python 3.9.7 64-bit",
   "language": "python",
   "name": "python3"
  },
  "language_info": {
   "codemirror_mode": {
    "name": "ipython",
    "version": 3
   },
   "file_extension": ".py",
   "mimetype": "text/x-python",
   "name": "python",
   "nbconvert_exporter": "python",
   "pygments_lexer": "ipython3",
   "version": "3.9.7"
  },
  "orig_nbformat": 4,
  "vscode": {
   "interpreter": {
    "hash": "fb0118d73d3d26f88e0d1e3500a56a7fc92e760d5128bb0bdb4d57f6bad5166f"
   }
  }
 },
 "nbformat": 4,
 "nbformat_minor": 2
}
