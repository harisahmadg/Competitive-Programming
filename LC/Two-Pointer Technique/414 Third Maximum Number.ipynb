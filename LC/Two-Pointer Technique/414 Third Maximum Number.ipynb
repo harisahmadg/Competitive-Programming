{
 "cells": [
  {
   "cell_type": "code",
   "execution_count": 15,
   "metadata": {},
   "outputs": [
    {
     "name": "stdout",
     "output_type": "stream",
     "text": [
      "[1, 1, 2]\n",
      "[1, 1, 2]\n",
      "[1, 1, 2]\n",
      "2\n"
     ]
    }
   ],
   "source": [
    "from typing import List\n",
    "\n",
    "class Solution:\n",
    "    def thirdMax(self, nums: List[int]) -> int:\n",
    "        \n",
    "        # if length is less than 3 then just get max\n",
    "        if (len(nums) <= 0):\n",
    "            return -1   # no max\n",
    "        elif (len(nums) < 3):\n",
    "\n",
    "            max = nums[0]\n",
    "            for num in nums:\n",
    "                if num > max:\n",
    "                    max = num\n",
    "            return max\n",
    "        \n",
    "        nums.sort()     # smallest to greatest\n",
    "        count = 0\n",
    "\n",
    "        for i in range(len(nums)-1, -1, -1):    # start, end, step\n",
    "            if (i != 0 and nums[i] > nums[i-1]):\n",
    "                count += 1\n",
    "            if (count == 2):\n",
    "                return nums[i-1]\n",
    "\n",
    "        return nums[len(nums)-1]    # if count never reaches index 2 then just return the max (last element)\n",
    "\n",
    "obj = Solution()\n",
    "\n",
    "nums = [1,1,2]\n",
    "#print(nums)\n",
    "print(obj.thirdMax(nums))\n",
    "#print(nums)"
   ]
  },
  {
   "cell_type": "code",
   "execution_count": null,
   "metadata": {},
   "outputs": [],
   "source": [
    "# didnt get anywhere\n",
    "from typing import List\n",
    "\n",
    "class Solution:\n",
    "    def thirdMax(self, nums: List[int]) -> int:\n",
    "        \n",
    "        max3 = set()\n",
    "\n",
    "        i = 0\n",
    "        while i < len(nums):\n",
    "            if len(max3) == 0:\n",
    "                max3.add(nums[i])\n",
    "            else:\n",
    "                smallest = min(max3)\n",
    "                if (nums[i] > smallest):\n",
    "                    set.pop(smallest)\n",
    "                    set.add(nums[i])\n",
    "\n",
    "obj = Solution()\n",
    "\n",
    "nums = [1,1,2]\n",
    "#print(nums)\n",
    "print(obj.thirdMax(nums))\n",
    "#print(nums)"
   ]
  },
  {
   "cell_type": "code",
   "execution_count": 16,
   "metadata": {},
   "outputs": [
    {
     "ename": "ValueError",
     "evalue": "min() arg is an empty sequence",
     "output_type": "error",
     "traceback": [
      "\u001b[1;31m---------------------------------------------------------------------------\u001b[0m",
      "\u001b[1;31mValueError\u001b[0m                                Traceback (most recent call last)",
      "\u001b[1;32mc:\\Users\\owner\\OneDrive\\Code\\Competitive Programming\\LC\\Two-Pointer Technique\\414 Third Maximum Number.ipynb Cell 3'\u001b[0m in \u001b[0;36m<module>\u001b[1;34m\u001b[0m\n\u001b[0;32m      <a href='vscode-notebook-cell:/c%3A/Users/owner/OneDrive/Code/Competitive%20Programming/LC/Two-Pointer%20Technique/414%20Third%20Maximum%20Number.ipynb#ch0000002?line=0'>1</a>\u001b[0m max3 \u001b[39m=\u001b[39m \u001b[39mset\u001b[39m()\n\u001b[1;32m----> <a href='vscode-notebook-cell:/c%3A/Users/owner/OneDrive/Code/Competitive%20Programming/LC/Two-Pointer%20Technique/414%20Third%20Maximum%20Number.ipynb#ch0000002?line=1'>2</a>\u001b[0m \u001b[39mmin\u001b[39;49m(max3)\n",
      "\u001b[1;31mValueError\u001b[0m: min() arg is an empty sequence"
     ]
    }
   ],
   "source": [
    "max3 = set()"
   ]
  }
 ],
 "metadata": {
  "kernelspec": {
   "display_name": "Python 3.9.7 64-bit",
   "language": "python",
   "name": "python3"
  },
  "language_info": {
   "codemirror_mode": {
    "name": "ipython",
    "version": 3
   },
   "file_extension": ".py",
   "mimetype": "text/x-python",
   "name": "python",
   "nbconvert_exporter": "python",
   "pygments_lexer": "ipython3",
   "version": "3.9.7"
  },
  "orig_nbformat": 4,
  "vscode": {
   "interpreter": {
    "hash": "fb0118d73d3d26f88e0d1e3500a56a7fc92e760d5128bb0bdb4d57f6bad5166f"
   }
  }
 },
 "nbformat": 4,
 "nbformat_minor": 2
}
