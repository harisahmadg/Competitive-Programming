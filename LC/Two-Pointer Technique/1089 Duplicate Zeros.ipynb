{
 "cells": [
  {
   "cell_type": "code",
   "execution_count": 11,
   "metadata": {},
   "outputs": [
    {
     "name": "stdout",
     "output_type": "stream",
     "text": [
      "[1, 0, 0, 2, 3, 0, 0, 4]\n"
     ]
    }
   ],
   "source": [
    "from typing import List\n",
    "\n",
    "class Solution:\n",
    "    def duplicateZeros(self, arr: List[int]) -> None:\n",
    "        \"\"\"\n",
    "        Do not return anything, modify arr in-place instead.\n",
    "        \"\"\"\n",
    "        if len(arr) > 2:\n",
    "            # do nothing\n",
    "            p1 = 0\n",
    "            while p1 < len(arr):\n",
    "                if (arr[p1] == 0):\n",
    "                    # insert 0 and shift right\n",
    "                    p2 = len(arr)-1\n",
    "                    while p2 > p1:\n",
    "                        arr[p2] = arr[p2-1]\n",
    "                        p2 -= 1\n",
    "                    p1 += 1\n",
    "                p1 +=1\n",
    "           \n",
    "\n",
    "obj = Solution()\n",
    "\n",
    "nums = [1,0,2,3,0,4,5,0]\n",
    "nums1 = [1,2,3]\n",
    "obj.duplicateZeros(nums)\n",
    "print(nums)"
   ]
  },
  {
   "cell_type": "code",
   "execution_count": null,
   "metadata": {},
   "outputs": [],
   "source": [
    "# actually tricky easy problem. couldnt figure out a better solution than O(n^2) myself"
   ]
  }
 ],
 "metadata": {
  "kernelspec": {
   "display_name": "Python 3.9.7 64-bit",
   "language": "python",
   "name": "python3"
  },
  "language_info": {
   "name": "python",
   "version": "3.9.7"
  },
  "orig_nbformat": 4,
  "vscode": {
   "interpreter": {
    "hash": "fb0118d73d3d26f88e0d1e3500a56a7fc92e760d5128bb0bdb4d57f6bad5166f"
   }
  }
 },
 "nbformat": 4,
 "nbformat_minor": 2
}
