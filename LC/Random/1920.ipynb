{
 "cells": [
  {
   "cell_type": "code",
   "execution_count": 1,
   "metadata": {},
   "outputs": [],
   "source": [
    "from typing import Optional, Union\n",
    "# https://leetcode.com/problems/build-array-from-permutation/"
   ]
  },
  {
   "cell_type": "code",
   "execution_count": 12,
   "metadata": {},
   "outputs": [],
   "source": [
    "class Solution:\n",
    "    def buildArray(self, nums: list[int]) -> list[int]:\n",
    "        \n",
    "        ans = []\n",
    "        for i in range(len(nums)):\n",
    "            print(i)\n",
    "            ans.append(nums[nums[i]])\n",
    "        return ans"
   ]
  },
  {
   "cell_type": "code",
   "execution_count": 14,
   "metadata": {},
   "outputs": [
    {
     "name": "stdout",
     "output_type": "stream",
     "text": [
      "0\n",
      "1\n",
      "2\n",
      "3\n",
      "4\n",
      "5\n",
      "[0, 1, 2, 4, 5, 3]\n"
     ]
    }
   ],
   "source": [
    "test_cases = [[0,2,1,5,3,4]]\n",
    "obj = Solution()\n",
    "for i in range(len(test_cases)):\n",
    "    print(obj.buildArray(test_cases[i]))\n"
   ]
  }
 ],
 "metadata": {
  "interpreter": {
   "hash": "674be5375682b69371d761d386cff5a46c28d85af71377734cc352f32256ae57"
  },
  "kernelspec": {
   "display_name": "Python 3.9.7 64-bit",
   "language": "python",
   "name": "python3"
  },
  "language_info": {
   "codemirror_mode": {
    "name": "ipython",
    "version": 3
   },
   "file_extension": ".py",
   "mimetype": "text/x-python",
   "name": "python",
   "nbconvert_exporter": "python",
   "pygments_lexer": "ipython3",
   "version": "3.9.7"
  },
  "orig_nbformat": 4
 },
 "nbformat": 4,
 "nbformat_minor": 2
}
