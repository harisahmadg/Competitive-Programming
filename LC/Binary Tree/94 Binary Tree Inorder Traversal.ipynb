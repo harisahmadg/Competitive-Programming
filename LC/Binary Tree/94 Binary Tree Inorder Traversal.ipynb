{
 "cells": [
  {
   "cell_type": "code",
   "execution_count": null,
   "metadata": {},
   "outputs": [],
   "source": [
    "# Definition for a binary tree node.\n",
    "from typing import Optional, List\n",
    "\n",
    "class TreeNode:\n",
    "    def __init__(self, val=0, left=None, right=None):\n",
    "        self.val = val\n",
    "        self.left = left\n",
    "        self.right = right\n",
    "\n",
    "class Solution:\n",
    "    def inorderTraversal(self, root: Optional[TreeNode]) -> List[int]:\n",
    "        # recursive sol\n",
    "        \n",
    "        res = []\n",
    "        self.helper(root, res)\n",
    "        return res\n",
    "    \n",
    "    def helper(self, root: Optional[TreeNode], res: List[int]):\n",
    "        \n",
    "        if root:\n",
    "            self.helper(root.left, res)\n",
    "            res.append(root.val)\n",
    "            self.helper(root.right, res)"
   ]
  }
 ],
 "metadata": {
  "language_info": {
   "name": "python"
  },
  "orig_nbformat": 4
 },
 "nbformat": 4,
 "nbformat_minor": 2
}
