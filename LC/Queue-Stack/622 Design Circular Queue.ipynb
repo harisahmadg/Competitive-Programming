{
 "cells": [
  {
   "cell_type": "code",
   "execution_count": null,
   "metadata": {},
   "outputs": [],
   "source": [
    "class MyCircularQueue:\n",
    "\n",
    "    def __init__(self, k: int):\n",
    "        self.data = [0] * k\n",
    "        self.maxSize = k\n",
    "        self.size = 0\n",
    "        self.head = -1\n",
    "        self.tail = -1\n",
    "\n",
    "    def enQueue(self, value: int) -> bool:\n",
    "        if not self.isFull():\n",
    "\n",
    "            if self.tail == -1:\n",
    "                self.tail = 0\n",
    "                self.head = 0\n",
    "            else:\n",
    "                self.tail = (self.tail+1) % self.maxSize\n",
    "\n",
    "            self.data[self.tail] = value\n",
    "            self.size += 1\n",
    "            return True\n",
    "        return False\n",
    "\n",
    "    def deQueue(self) -> bool:\n",
    "        if not self.isEmpty():\n",
    "            if self.head == self.tail:\n",
    "                self.head = -1\n",
    "                self.tail = -1\n",
    "            else:\n",
    "                self.head = (self.head+1) % self.maxSize\n",
    "\n",
    "            self.size -= 1\n",
    "            return True\n",
    "        return False\n",
    "\n",
    "    def Front(self) -> int:\n",
    "        return self.data[self.head] if self.size != 0 else -1\n",
    "\n",
    "    def Rear(self) -> int:\n",
    "        return self.data[self.tail] if self.size != 0 else -1\n",
    "\n",
    "    def isEmpty(self) -> bool:\n",
    "        return self.size == 0\n",
    "\n",
    "    def isFull(self) -> bool:\n",
    "        return self.size == self.maxSize"
   ]
  },
  {
   "cell_type": "code",
   "execution_count": null,
   "metadata": {},
   "outputs": [],
   "source": [
    "# Your MyCircularQueue object will be instantiated and called as such:\n",
    "obj = MyCircularQueue(3)\n",
    "print(obj.enQueue(1))\n",
    "print(obj.enQueue(2))\n",
    "print(obj.enQueue(3))\n",
    "print(obj.enQueue(4))"
   ]
  }
 ],
 "metadata": {
  "kernelspec": {
   "display_name": "Python 3.9.7 64-bit",
   "language": "python",
   "name": "python3"
  },
  "language_info": {
   "codemirror_mode": {
    "name": "ipython",
    "version": 3
   },
   "file_extension": ".py",
   "mimetype": "text/x-python",
   "name": "python",
   "nbconvert_exporter": "python",
   "pygments_lexer": "ipython3",
   "version": "3.9.7"
  },
  "orig_nbformat": 4,
  "vscode": {
   "interpreter": {
    "hash": "fb0118d73d3d26f88e0d1e3500a56a7fc92e760d5128bb0bdb4d57f6bad5166f"
   }
  }
 },
 "nbformat": 4,
 "nbformat_minor": 2
}
