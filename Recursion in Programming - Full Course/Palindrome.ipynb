{
 "cells": [
  {
   "cell_type": "markdown",
   "metadata": {},
   "source": [
    "Palindrome.\\\n",
    "ex1: Kayak"
   ]
  },
  {
   "cell_type": "code",
   "execution_count": 11,
   "metadata": {},
   "outputs": [
    {
     "data": {
      "text/plain": [
       "True"
      ]
     },
     "execution_count": 11,
     "metadata": {},
     "output_type": "execute_result"
    }
   ],
   "source": [
    "from typing import List\n",
    "\n",
    "def Palindrome(input: str) -> bool:\n",
    "    \n",
    "    if len(input) <= 1:\n",
    "        return True\n",
    "    \n",
    "    first_char = input[0].lower()   # for case sensitive\n",
    "    last_char = input[-1].lower()\n",
    "\n",
    "    return (first_char == last_char) and Palindrome(input[1:-1])\n",
    "\n",
    "ex1 = \"kayak\"\n",
    "ex2 = \"jkloolkj1\"\n",
    "ex3 = \"racecar\"\n",
    "\n",
    "Palindrome(ex3)"
   ]
  }
 ],
 "metadata": {
  "kernelspec": {
   "display_name": "Python 3.9.7 64-bit",
   "language": "python",
   "name": "python3"
  },
  "language_info": {
   "codemirror_mode": {
    "name": "ipython",
    "version": 3
   },
   "file_extension": ".py",
   "mimetype": "text/x-python",
   "name": "python",
   "nbconvert_exporter": "python",
   "pygments_lexer": "ipython3",
   "version": "3.9.7"
  },
  "orig_nbformat": 4,
  "vscode": {
   "interpreter": {
    "hash": "fb0118d73d3d26f88e0d1e3500a56a7fc92e760d5128bb0bdb4d57f6bad5166f"
   }
  }
 },
 "nbformat": 4,
 "nbformat_minor": 2
}
