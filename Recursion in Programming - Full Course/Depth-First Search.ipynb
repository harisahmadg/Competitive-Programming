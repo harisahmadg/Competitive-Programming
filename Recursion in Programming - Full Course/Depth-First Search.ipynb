{
 "cells": [
  {
   "cell_type": "code",
   "execution_count": null,
   "metadata": {},
   "outputs": [],
   "source": [
    "# not on leetcode\n",
    "# Definition for a binary tree node.\n",
    "from typing import Optional\n",
    "\n",
    "class TreeNode:\n",
    "    def __init__(self, val=0, left=None, right=None):\n",
    "        self.val = val\n",
    "        self.left = left\n",
    "        self.right = right\n",
    "\n",
    "class Solution:\n",
    "    def depthFirstSearch(self, root: Optional[TreeNode], val: int):\n",
    "        \n",
    "        if root == None:\n",
    "            return\n",
    "        if root.left == None and root.right == None:\n",
    "            print(root.val)\n",
    "            return\n",
    "        \n",
    "        if root.left:\n",
    "            self.printAllLeafNodes(root.left)\n",
    "        if root.right:\n",
    "            self.printAllLeafNodes(root.right)"
   ]
  }
 ],
 "metadata": {
  "kernelspec": {
   "display_name": "Python 3.10.5 64-bit",
   "language": "python",
   "name": "python3"
  },
  "language_info": {
   "name": "python",
   "version": "3.10.5"
  },
  "orig_nbformat": 4,
  "vscode": {
   "interpreter": {
    "hash": "9fd0542caab7009b29092895c05fcefa6c380ab652e2ee84ac75102878337327"
   }
  }
 },
 "nbformat": 4,
 "nbformat_minor": 2
}
