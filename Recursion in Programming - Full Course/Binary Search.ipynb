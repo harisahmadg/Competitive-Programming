{
 "cells": [
  {
   "cell_type": "code",
   "execution_count": 21,
   "metadata": {},
   "outputs": [
    {
     "name": "stdout",
     "output_type": "stream",
     "text": [
      "1\n"
     ]
    }
   ],
   "source": [
    "# Recursive\n",
    "from typing import List\n",
    "\n",
    "def BinarySearch(A: List[int], left: int, right:int, target:int) -> int:\n",
    "    \n",
    "    if left > right:\n",
    "        return -1\n",
    "\n",
    "    mid = (left + right) // 2\n",
    "\n",
    "    if (target == A[mid]):\n",
    "        return mid\n",
    "    elif (target <= A[mid]):\n",
    "        return BinarySearch(A, left, mid-1, target)      # last is not inclusive in python sub array\n",
    "    else:\n",
    "        return BinarySearch(A, mid+1, right, target)\n",
    "\n",
    "nums = [-1,0,1,2,3,4,7,9,10,20] #size=10\n",
    "print(BinarySearch(nums, 0, len(nums)-1, 0))"
   ]
  },
  {
   "cell_type": "markdown",
   "metadata": {},
   "source": [
    "[-1,0,1,2,3,4,7,9,10,20]\n",
    "[4,7,9,10,20]\n",
    "[10,20]"
   ]
  },
  {
   "cell_type": "code",
   "execution_count": 7,
   "metadata": {},
   "outputs": [
    {
     "data": {
      "text/plain": [
       "-1"
      ]
     },
     "execution_count": 7,
     "metadata": {},
     "output_type": "execute_result"
    }
   ],
   "source": [
    "# Iterative\n",
    "from typing import List\n",
    "\n",
    "def BinarySearch(A: List[int], target: int) -> int:\n",
    "    \n",
    "    left = 0\n",
    "    right = len(A)-1\n",
    "    mid = 0\n",
    "\n",
    "    while left <= right:\n",
    "        mid = (left + right) // 2\n",
    "        if (target == A[mid]):\n",
    "            return mid\n",
    "        elif (target < A[mid]):\n",
    "            right = mid-1\n",
    "        else:\n",
    "            left = mid+1\n",
    "    \n",
    "    return -1\n",
    "\n",
    "nums = [-1,0,1,2,3,4,7,9,10,20]\n",
    "target = 11\n",
    "BinarySearch(nums, target)\n"
   ]
  }
 ],
 "metadata": {
  "kernelspec": {
   "display_name": "Python 3.9.7 64-bit",
   "language": "python",
   "name": "python3"
  },
  "language_info": {
   "codemirror_mode": {
    "name": "ipython",
    "version": 3
   },
   "file_extension": ".py",
   "mimetype": "text/x-python",
   "name": "python",
   "nbconvert_exporter": "python",
   "pygments_lexer": "ipython3",
   "version": "3.9.7"
  },
  "orig_nbformat": 4,
  "vscode": {
   "interpreter": {
    "hash": "fb0118d73d3d26f88e0d1e3500a56a7fc92e760d5128bb0bdb4d57f6bad5166f"
   }
  }
 },
 "nbformat": 4,
 "nbformat_minor": 2
}
