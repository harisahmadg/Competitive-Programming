{
 "cells": [
  {
   "cell_type": "markdown",
   "metadata": {},
   "source": [
    "String Reversal \\\n",
    "input: the simple engineer \\\n",
    "output: reenigne elpmis eht"
   ]
  },
  {
   "cell_type": "code",
   "execution_count": 5,
   "metadata": {},
   "outputs": [
    {
     "data": {
      "text/plain": [
       "'reenigne elpmis eht'"
      ]
     },
     "execution_count": 5,
     "metadata": {},
     "output_type": "execute_result"
    }
   ],
   "source": [
    "from typing import List\n",
    "\n",
    "def StringReversal(to_reverse: str) -> str:\n",
    "    if len(to_reverse) <= 1:\n",
    "        return to_reverse\n",
    "    \n",
    "    last_char = to_reverse[-1]\n",
    "    new_string = to_reverse[:-1]    # size-1 string\n",
    "    return last_char + StringReversal(new_string)\n",
    "\n",
    "ex1 = \"the simple engineer\"\n",
    "\n",
    "StringReversal(ex1)"
   ]
  },
  {
   "cell_type": "code",
   "execution_count": 3,
   "metadata": {},
   "outputs": [
    {
     "data": {
      "text/plain": [
       "'r'"
      ]
     },
     "execution_count": 3,
     "metadata": {},
     "output_type": "execute_result"
    }
   ],
   "source": [
    "to_reverse = \"the simple engineer\"\n",
    "to_reverse[-1]"
   ]
  },
  {
   "cell_type": "markdown",
   "metadata": {},
   "source": [
    "Thoughts post completion \\\n",
    "Was able to figure out technique right away"
   ]
  }
 ],
 "metadata": {
  "kernelspec": {
   "display_name": "Python 3.9.7 64-bit",
   "language": "python",
   "name": "python3"
  },
  "language_info": {
   "codemirror_mode": {
    "name": "ipython",
    "version": 3
   },
   "file_extension": ".py",
   "mimetype": "text/x-python",
   "name": "python",
   "nbconvert_exporter": "python",
   "pygments_lexer": "ipython3",
   "version": "3.9.7"
  },
  "orig_nbformat": 4,
  "vscode": {
   "interpreter": {
    "hash": "fb0118d73d3d26f88e0d1e3500a56a7fc92e760d5128bb0bdb4d57f6bad5166f"
   }
  }
 },
 "nbformat": 4,
 "nbformat_minor": 2
}
