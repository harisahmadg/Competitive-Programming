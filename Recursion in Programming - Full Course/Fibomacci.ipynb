{
 "cells": [
  {
   "cell_type": "code",
   "execution_count": null,
   "metadata": {},
   "outputs": [],
   "source": [
    "# Non-Optimized \n",
    "\n",
    "from typing import List\n",
    "\n",
    "def Fibonacci(num: int) -> int:\n",
    "    if num == 0 or num == 1:\n",
    "        return 1\n",
    "    return Fibonacci(num-1) + Fibonacci(num-2)\n",
    "\n",
    "Fibonacci(60)\n"
   ]
  },
  {
   "cell_type": "code",
   "execution_count": 1,
   "metadata": {},
   "outputs": [
    {
     "data": {
      "text/plain": [
       "359579325206583560961765665172189099052367214309267232255589801"
      ]
     },
     "execution_count": 1,
     "metadata": {},
     "output_type": "execute_result"
    }
   ],
   "source": [
    "# Optimized MY WAY\n",
    "\n",
    "from typing import List\n",
    "\n",
    "def Fibonacci(num: int, seen: dict) -> int:\n",
    "    if num == 0 or num == 1:\n",
    "        return 1\n",
    "\n",
    "    if num-1 in seen:\n",
    "        prev1 = seen[num-1]\n",
    "    else:\n",
    "        prev1 = Fibonacci(num-1, seen)\n",
    "        seen[num-1] = prev1\n",
    "\n",
    "    if num-2 in seen:\n",
    "        prev2 = seen[num-2]\n",
    "    else:\n",
    "        prev2 = Fibonacci(num-2, seen)\n",
    "        seen[num-2] = prev2\n",
    "\n",
    "    return prev1 + prev2\n",
    "\n",
    "Fibonacci(300, {})\n"
   ]
  },
  {
   "cell_type": "code",
   "execution_count": 2,
   "metadata": {},
   "outputs": [
    {
     "data": {
      "text/plain": [
       "13"
      ]
     },
     "execution_count": 2,
     "metadata": {},
     "output_type": "execute_result"
    }
   ],
   "source": [
    "# Optimized from Google\n",
    "\n",
    "from typing import List\n",
    "\n",
    "def Fibonacci(num: int, cache: dict) -> int:\n",
    "    if num in cache:\n",
    "        return cache[num]\n",
    "    cache[num] = Fibonacci(num-1, cache) + Fibonacci(num-2, cache)\n",
    "    return cache[num]\n",
    "\n",
    "Fibonacci(6, {0:1, 1:1})"
   ]
  }
 ],
 "metadata": {
  "kernelspec": {
   "display_name": "Python 3.9.7 64-bit",
   "language": "python",
   "name": "python3"
  },
  "language_info": {
   "codemirror_mode": {
    "name": "ipython",
    "version": 3
   },
   "file_extension": ".py",
   "mimetype": "text/x-python",
   "name": "python",
   "nbconvert_exporter": "python",
   "pygments_lexer": "ipython3",
   "version": "3.9.7"
  },
  "orig_nbformat": 4,
  "vscode": {
   "interpreter": {
    "hash": "fb0118d73d3d26f88e0d1e3500a56a7fc92e760d5128bb0bdb4d57f6bad5166f"
   }
  }
 },
 "nbformat": 4,
 "nbformat_minor": 2
}
