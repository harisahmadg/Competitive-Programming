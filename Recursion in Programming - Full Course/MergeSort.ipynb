{
 "cells": [
  {
   "cell_type": "code",
   "execution_count": 2,
   "metadata": {},
   "outputs": [],
   "source": [
    "# Two pointer\n",
    "# Divide and Conquer"
   ]
  },
  {
   "cell_type": "code",
   "execution_count": 51,
   "metadata": {},
   "outputs": [],
   "source": [
    "# recursion\n",
    "from typing import List\n",
    "\n",
    "class Solution:\n",
    "    def MergeSort(self, A: List[int], start: int, end: int):\n",
    "\n",
    "        if start >= end:\n",
    "            return\n",
    "        else:\n",
    "            mid = (start+end)//2\n",
    "            self.MergeSort(A, start, mid)\n",
    "            self.MergeSort(A, mid+1, end)\n",
    "            self.Merge(A, start, mid, end)\n",
    "        return\n",
    "\n",
    "    def Merge(self, A, start, mid, end):\n",
    "        sorted = []\n",
    "        i, j = start, mid+1\n",
    "\n",
    "        while i <= mid and j <= end:\n",
    "            if A[i] <= A[j]:\n",
    "                sorted.append(A[i])\n",
    "                i += 1\n",
    "            else:\n",
    "                sorted.append(A[j])\n",
    "                j += 1\n",
    "        \n",
    "        while i <= mid:\n",
    "            sorted.append(A[i])\n",
    "            i += 1\n",
    "        \n",
    "        while j <= end:\n",
    "            sorted.append(A[j])\n",
    "            j += 1\n",
    "        \n",
    "        i = start\n",
    "        while i <= end:\n",
    "            A[i] = sorted[i-start]\n",
    "            i += 1\n"
   ]
  },
  {
   "cell_type": "code",
   "execution_count": 52,
   "metadata": {},
   "outputs": [
    {
     "name": "stdout",
     "output_type": "stream",
     "text": [
      "[4, 1, 3, 2, 0, -1, 7, 10, 9, 20]\n",
      "[-1, 0, 1, 2, 3, 4, 7, 9, 10, 20]\n"
     ]
    }
   ],
   "source": [
    "obj = Solution()\n",
    "nums = [4,1,3,2,0,-1,7,10,9,20] #size=10\n",
    "print(nums)\n",
    "obj.MergeSort(nums, 0, len(nums)-1)\n",
    "# print(obj.MergeSort(nums, 0, len(nums)))\n",
    "print(nums)"
   ]
  }
 ],
 "metadata": {
  "kernelspec": {
   "display_name": "Python 3.10.5 64-bit",
   "language": "python",
   "name": "python3"
  },
  "language_info": {
   "codemirror_mode": {
    "name": "ipython",
    "version": 3
   },
   "file_extension": ".py",
   "mimetype": "text/x-python",
   "name": "python",
   "nbconvert_exporter": "python",
   "pygments_lexer": "ipython3",
   "version": "3.10.5"
  },
  "orig_nbformat": 4,
  "vscode": {
   "interpreter": {
    "hash": "9fd0542caab7009b29092895c05fcefa6c380ab652e2ee84ac75102878337327"
   }
  }
 },
 "nbformat": 4,
 "nbformat_minor": 2
}
